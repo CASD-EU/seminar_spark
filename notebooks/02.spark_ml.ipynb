{
 "cells": [
  {
   "metadata": {},
   "cell_type": "markdown",
   "source": [
    "# Use spark for machine learning\n",
    "\n",
    " The source data which we use in this tutorial is publicly available at the [UCI Machine Learning Repository](https://archive.ics.uci.edu/dataset/2/adult). This data consists of `48842` american residents and their annual income. \n",
    " The objective of this tutorial is to train a model which can predict if a person's revenu range is `<=50K` or `>50k` a year.\n",
    " \n",
    "\n",
    "Dataset feature description:\n",
    "\n",
    "| name           | type    | description                                                                                                         |\n",
    "|----------------|---------|---------------------------------------------------------------------------------------------------------------------|\n",
    "| age            | double  | age of the resident                                                                                                 |\n",
    "| workclass      | string  | Simplified employment status of an individual. 9 distinct values: State-gov, Private,Self-emp-not-inc               |\n",
    "| fnlwgt:        | integer | Final weight of the row. Basically interpret as the number of people represented by this row. (Continous, positive) |\n",
    "| education      | string  | The education level. Categorical column, 13 distinct values. (e.g. Bachelors, Some-college, 11th, HS-grad...)       |\n",
    "| education-num: | double  | The education level. Categorical column, 13 distinct values.  (e.g. 7.0, 9.0, 13.0)                                 |\n",
    "| marital-status | string  | Marital status of a person. Categorical column, 7 distinct values Divorced e.g. Never-married, Separated,...        |\n",
    "| occupation     | string  | Rough category of the occupation. (categorical, 15 distinct values) Tech-support, Craft-repair, Sales, ...          |\n",
    "| relationship   | string  | Relationship in terms of the family.  (categorical, 6 distinct values) Wife, Own-child, Husband, ...                |\n",
    "| race           | string  | Race of the person. (categorical, 5 distinct values) White, Asian-Pac-Islander, Amer-Indian-Eskimo, Other, Black    |\n",
    "| sex            | string  | gender at-birth (boolean) Female, Male                                                                              |\n",
    "| capital-gain   | double  | Dollar gain of capital. (continuous)                                                                                |\n",
    "| capital-loss   | double  | Dollar loss of capital. (continuous)                                                                                |\n",
    "| hours-per-week | double  | Working hours per week.(continous positive integer)                                                                 |\n",
    "| native-country | string  | Country at birth.  (categorical, 41 distinct values) United-States, Cambodia, England, Puerto-Rico, Canada, Germany |\n",
    "\n",
    "\n",
    "Dataset label description:\n",
    "\n",
    "| name           | type    | description                                                                 |\n",
    "|----------------|---------|-----------------------------------------------------------------------------|\n",
    "| income-bracket | boolean | Income range of the person. True if ≥ 50K, otherwise False (< 50K per year) |"
   ],
   "id": "2b76538dd88ff8"
  },
  {
   "metadata": {
    "ExecuteTime": {
     "end_time": "2025-04-22T07:47:46.745617Z",
     "start_time": "2025-04-22T07:47:46.645857Z"
    }
   },
   "cell_type": "code",
   "source": [
    "from pyspark.sql.types import StructType, DoubleType, StructField, StringType\n",
    "from pyspark.sql import SparkSession"
   ],
   "id": "c58fd82f8a215326",
   "outputs": [],
   "execution_count": 1
  },
  {
   "metadata": {
    "ExecuteTime": {
     "end_time": "2025-04-22T07:48:18.764466Z",
     "start_time": "2025-04-22T07:47:46.748813Z"
    }
   },
   "cell_type": "code",
   "source": [
    "# Initialize a Spark Session\n",
    "spark = SparkSession.builder \\\n",
    "    .master(\"local[*]\") \\\n",
    "    .appName(\"spark_ml\") \\\n",
    "    .getOrCreate()"
   ],
   "id": "c436b04c3b2b49b2",
   "outputs": [],
   "execution_count": 2
  },
  {
   "metadata": {
    "ExecuteTime": {
     "end_time": "2025-04-22T07:48:19.156165Z",
     "start_time": "2025-04-22T07:48:19.148962Z"
    }
   },
   "cell_type": "code",
   "source": [
    "# data path\n",
    "file_path = \"../data/us_census_1994.csv\"\n",
    "\n",
    "# specify dataset schema\n",
    "schema = StructType([\n",
    "  StructField(\"age\", DoubleType(), False),\n",
    "  StructField(\"workclass\", StringType(), False),\n",
    "  StructField(\"fnlwgt\", DoubleType(), False),\n",
    "  StructField(\"education\", StringType(), False),\n",
    "  StructField(\"education_num\", DoubleType(), False),\n",
    "  StructField(\"marital_status\", StringType(), False),\n",
    "  StructField(\"occupation\", StringType(), False),\n",
    "  StructField(\"relationship\", StringType(), False),\n",
    "  StructField(\"race\", StringType(), False),\n",
    "  StructField(\"sex\", StringType(), False),\n",
    "  StructField(\"capital_gain\", DoubleType(), False),\n",
    "  StructField(\"capital_loss\", DoubleType(), False),\n",
    "  StructField(\"hours_per_week\", DoubleType(), False),\n",
    "  StructField(\"native_country\", StringType(), False),\n",
    "  StructField(\"income\", StringType(), False)\n",
    "])"
   ],
   "id": "418678145b9c01ec",
   "outputs": [],
   "execution_count": 3
  },
  {
   "metadata": {
    "ExecuteTime": {
     "end_time": "2025-04-22T07:48:30.150212Z",
     "start_time": "2025-04-22T07:48:27.511251Z"
    }
   },
   "cell_type": "code",
   "source": [
    "# load dataset\n",
    "df_raw = spark.read.format(\"csv\").schema(schema).load(file_path)"
   ],
   "id": "33dd2e1d998aaaf3",
   "outputs": [],
   "execution_count": 4
  },
  {
   "metadata": {
    "ExecuteTime": {
     "end_time": "2025-04-22T07:48:41.394245Z",
     "start_time": "2025-04-22T07:48:37.871869Z"
    }
   },
   "cell_type": "code",
   "source": "df_raw.show(5)",
   "id": "3eb2e9e1692b30ea",
   "outputs": [
    {
     "name": "stdout",
     "output_type": "stream",
     "text": [
      "+----+----------------+--------+---------+-------------+------------------+-----------------+-------------+-----+----+------------+------------+--------------+--------------+------+\n",
      "| age|       workclass|  fnlwgt|education|education_num|    marital_status|       occupation| relationship| race| sex|capital_gain|capital_loss|hours_per_week|native_country|income|\n",
      "+----+----------------+--------+---------+-------------+------------------+-----------------+-------------+-----+----+------------+------------+--------------+--------------+------+\n",
      "|NULL|       workclass|    NULL|education|         NULL|     marial-status|       occupation| relationship| race| sex|        NULL|        NULL|          NULL|native-country|income|\n",
      "|39.0|       State-gov| 77516.0|Bachelors|         13.0|     Never-married|     Adm-clerical|Not-in-family|White|Male|      2174.0|         0.0|          40.0| United-States| <=50K|\n",
      "|50.0|Self-emp-not-inc| 83311.0|Bachelors|         13.0|Married-civ-spouse|  Exec-managerial|      Husband|White|Male|         0.0|         0.0|          13.0| United-States| <=50K|\n",
      "|38.0|         Private|215646.0|  HS-grad|          9.0|          Divorced|Handlers-cleaners|Not-in-family|White|Male|         0.0|         0.0|          40.0| United-States| <=50K|\n",
      "|53.0|         Private|234721.0|     11th|          7.0|Married-civ-spouse|Handlers-cleaners|      Husband|Black|Male|         0.0|         0.0|          40.0| United-States| <=50K|\n",
      "+----+----------------+--------+---------+-------------+------------------+-----------------+-------------+-----+----+------------+------------+--------------+--------------+------+\n",
      "only showing top 5 rows\n",
      "\n"
     ]
    }
   ],
   "execution_count": 5
  },
  {
   "metadata": {
    "ExecuteTime": {
     "end_time": "2025-04-22T07:48:52.013001Z",
     "start_time": "2025-04-22T07:48:52.001618Z"
    }
   },
   "cell_type": "code",
   "source": "df_raw.printSchema()",
   "id": "bd88b34259e24500",
   "outputs": [
    {
     "name": "stdout",
     "output_type": "stream",
     "text": [
      "root\n",
      " |-- age: double (nullable = true)\n",
      " |-- workclass: string (nullable = true)\n",
      " |-- fnlwgt: double (nullable = true)\n",
      " |-- education: string (nullable = true)\n",
      " |-- education_num: double (nullable = true)\n",
      " |-- marital_status: string (nullable = true)\n",
      " |-- occupation: string (nullable = true)\n",
      " |-- relationship: string (nullable = true)\n",
      " |-- race: string (nullable = true)\n",
      " |-- sex: string (nullable = true)\n",
      " |-- capital_gain: double (nullable = true)\n",
      " |-- capital_loss: double (nullable = true)\n",
      " |-- hours_per_week: double (nullable = true)\n",
      " |-- native_country: string (nullable = true)\n",
      " |-- income: string (nullable = true)\n",
      "\n"
     ]
    }
   ],
   "execution_count": 6
  },
  {
   "metadata": {},
   "cell_type": "markdown",
   "source": [
    "## Preprocess\n",
    "\n",
    "To use algorithms like `Logistic Regression`, you must first convert the categorical features into numeric variables. There are two ways to do this.\n",
    "\n",
    "In this tutorial, we use `StringIndexer`, and `OneHotEncoder` to do the transformation.\n",
    "\n",
    "> One-Hot Encoding: categories into binary vectors with at most one nonzero value (eg: (Blue: [1, 0]), (Green: [0, 1]), (Red: [0, 0]))"
   ],
   "id": "f83b6f2a57c60361"
  },
  {
   "metadata": {},
   "cell_type": "code",
   "outputs": [],
   "execution_count": null,
   "source": [
    "from pyspark.ml import Pipeline\n",
    "from pyspark.ml.feature import StringIndexer, VectorAssembler\n",
    "\n",
    "from distutils.version import LooseVersion\n",
    "from pyspark.ml.feature import OneHotEncoder\n",
    "\n",
    "categoricalColumns = [\"workclass\", \"education\", \"marital_status\", \"occupation\", \"relationship\", \"race\", \"sex\", \"native_country\"]\n",
    "stages = [] # stages in Pipeline\n",
    "for categoricalCol in categoricalColumns:\n",
    "    # Category Indexing with StringIndexer\n",
    "    stringIndexer = StringIndexer(inputCol=categoricalCol, outputCol=categoricalCol + \"Index\")    \n",
    "    encoder = OneHotEncoder(inputCols=[stringIndexer.getOutputCol()], outputCols=[categoricalCol + \"classVec\"])\n",
    "    # Add stages.  These are not run here, but will run all at once later on.\n",
    "    stages += [stringIndexer, encoder]"
   ],
   "id": "2552a09555cdef16"
  },
  {
   "metadata": {},
   "cell_type": "code",
   "outputs": [],
   "execution_count": null,
   "source": "",
   "id": "8a6fcf431d3b1437"
  }
 ],
 "metadata": {
  "kernelspec": {
   "display_name": "Python 3",
   "language": "python",
   "name": "python3"
  },
  "language_info": {
   "codemirror_mode": {
    "name": "ipython",
    "version": 2
   },
   "file_extension": ".py",
   "mimetype": "text/x-python",
   "name": "python",
   "nbconvert_exporter": "python",
   "pygments_lexer": "ipython2",
   "version": "2.7.6"
  }
 },
 "nbformat": 4,
 "nbformat_minor": 5
}
