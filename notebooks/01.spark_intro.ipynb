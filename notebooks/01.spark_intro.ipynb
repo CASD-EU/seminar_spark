{
 "cells": [
  {
   "metadata": {},
   "cell_type": "markdown",
   "source": [
    "# Spark Introduction\n",
    "\n",
    "In this tutorial, we will show:\n",
    "\n",
    "  - how to create a basic `spark session`.\n",
    "  - how to load data from a file system.\n",
    "  - how to use `spark sql` to do basic data analytics.  \n",
    "  - how to write results on a file system."
   ],
   "id": "584c85886203e884"
  },
  {
   "metadata": {},
   "cell_type": "markdown",
   "source": "## Step1: Import pyspark api ",
   "id": "dc29206cabe126cb"
  },
  {
   "metadata": {
    "ExecuteTime": {
     "end_time": "2025-04-24T06:15:57.928343Z",
     "start_time": "2025-04-24T06:15:57.667166Z"
    }
   },
   "cell_type": "code",
   "source": [
    "from pyspark.sql import SparkSession\n",
    "from pyspark.sql.functions import explode, split, lower, col\n",
    "from pathlib import Path"
   ],
   "id": "72b6310315a6d3b7",
   "outputs": [],
   "execution_count": 1
  },
  {
   "metadata": {},
   "cell_type": "markdown",
   "source": "## Step2: Initialize a Spark Session",
   "id": "1fc84dc21a7d498d"
  },
  {
   "metadata": {
    "ExecuteTime": {
     "end_time": "2025-04-24T06:16:59.505073Z",
     "start_time": "2025-04-24T06:16:25.883649Z"
    }
   },
   "cell_type": "code",
   "source": [
    "\n",
    "spark = SparkSession.builder \\\n",
    "    .master(\"local[*]\") \\\n",
    "    .appName(\"WordCount\") \\\n",
    "    .getOrCreate()"
   ],
   "id": "5542b3be6adc7b54",
   "outputs": [],
   "execution_count": 2
  },
  {
   "metadata": {},
   "cell_type": "markdown",
   "source": [
    "## Step3: Load data into spark\n",
    "\n",
    "After step2, you should be able to access the [spark ui](http://localhost:4040/jobs/).\n",
    "\n",
    "You will notice there are no jobs listed in the spark ui after running `step3`. You know why?"
   ],
   "id": "b4ffe6d5c3a4663"
  },
  {
   "metadata": {
    "ExecuteTime": {
     "end_time": "2025-04-24T06:29:19.887535Z",
     "start_time": "2025-04-24T06:29:19.864345Z"
    }
   },
   "cell_type": "code",
   "source": [
    "# data path\n",
    "data_dir = Path().cwd().parent / 'data'\n",
    "file_path = data_dir  / 'le_petit_prince.txt'\n",
    "\n",
    "# Read text file into DataFrame\n",
    "# Each line becomes a row in the DataFrame\n",
    "df = spark.read.text(file_path.as_posix())"
   ],
   "id": "51319dcfe7ecd97",
   "outputs": [],
   "execution_count": 9
  },
  {
   "metadata": {},
   "cell_type": "markdown",
   "source": [
    "## Step4: Count word frequency\n",
    "\n",
    "The below code first splits a sentence into words, then it will do a groupby of all words, at last it counts the frequency of words\n",
    "\n",
    "> If you check the spark ui, after execution of the below code, there is still no job. You know why?"
   ],
   "id": "1113d7172b90b247"
  },
  {
   "metadata": {
    "ExecuteTime": {
     "end_time": "2025-04-24T06:18:59.412028Z",
     "start_time": "2025-04-24T06:18:59.212660Z"
    }
   },
   "cell_type": "code",
   "source": [
    "# Process the text and count words\n",
    "word_counts = df \\\n",
    "    .select(explode(split(lower(col(\"value\")), \"\\\\s+\")).alias(\"word\")) \\\n",
    "    .filter(col(\"word\") != \"\") \\\n",
    "    .groupBy(\"word\") \\\n",
    "    .count() \\\n",
    "    .orderBy(\"count\", ascending=False)"
   ],
   "id": "9fa4c2408c2d0ca8",
   "outputs": [],
   "execution_count": 7
  },
  {
   "metadata": {},
   "cell_type": "markdown",
   "source": [
    "## Step 5: Get the result\n",
    "\n",
    "All the code in step3, and step4 all transformations. As spark uses the `lazy evaluation` strategy, there are no jobs has been executed. The below code calls `show` which is a function.\n",
    "This will trigger the execution of the above transformation. After running step5, if you check [spark ui](http://localhost:4040/jobs/), you should see a list of jobs have been executed."
   ],
   "id": "1166cb4f2f997fcb"
  },
  {
   "metadata": {
    "ExecuteTime": {
     "end_time": "2025-04-24T06:28:06.341430Z",
     "start_time": "2025-04-24T06:27:59.321285Z"
    }
   },
   "cell_type": "code",
   "source": [
    "# Show top 20 most frequent words\n",
    "word_counts.show(20)  "
   ],
   "id": "aeeef90a90849f0d",
   "outputs": [
    {
     "name": "stdout",
     "output_type": "stream",
     "text": [
      "+-----+-----+\n",
      "| word|count|\n",
      "+-----+-----+\n",
      "|   le|  454|\n",
      "|    -|  434|\n",
      "|   de|  428|\n",
      "|   je|  316|\n",
      "|   et|  283|\n",
      "|   il|  260|\n",
      "|  les|  249|\n",
      "|   un|  230|\n",
      "|   la|  219|\n",
      "|petit|  193|\n",
      "|    à|  178|\n",
      "|   ne|  169|\n",
      "|  que|  154|\n",
      "|  pas|  148|\n",
      "|   tu|  136|\n",
      "|  des|  131|\n",
      "|c'est|  126|\n",
      "|  dit|  125|\n",
      "|    ?|  125|\n",
      "| mais|  123|\n",
      "+-----+-----+\n",
      "only showing top 20 rows\n",
      "\n"
     ]
    }
   ],
   "execution_count": 8
  },
  {
   "metadata": {},
   "cell_type": "markdown",
   "source": "## Step6: write the result in to filesystem",
   "id": "cb8ee73d76e8b468"
  },
  {
   "metadata": {
    "ExecuteTime": {
     "end_time": "2025-04-24T06:30:01.784094Z",
     "start_time": "2025-04-24T06:30:00.068670Z"
    }
   },
   "cell_type": "code",
   "source": [
    "# Save results if needed\n",
    "output_file_path = data_dir / 'out' / 'le_petit_prince_count'\n",
    "word_counts.write.csv(output_file_path.as_posix(), header=True)"
   ],
   "id": "55b22e4955207f9d",
   "outputs": [],
   "execution_count": 11
  },
  {
   "metadata": {},
   "cell_type": "markdown",
   "source": "## Step7: Stop the Spark session",
   "id": "c0de1c0ecea3d1b9"
  },
  {
   "metadata": {
    "ExecuteTime": {
     "end_time": "2025-04-24T06:30:32.471176Z",
     "start_time": "2025-04-24T06:30:31.887562Z"
    }
   },
   "cell_type": "code",
   "source": "spark.stop()",
   "id": "4af5b229da4ab006",
   "outputs": [],
   "execution_count": 12
  },
  {
   "metadata": {},
   "cell_type": "code",
   "outputs": [],
   "execution_count": null,
   "source": "",
   "id": "95d06ddbef2c9745"
  }
 ],
 "metadata": {
  "kernelspec": {
   "display_name": "Python 3",
   "language": "python",
   "name": "python3"
  },
  "language_info": {
   "codemirror_mode": {
    "name": "ipython",
    "version": 2
   },
   "file_extension": ".py",
   "mimetype": "text/x-python",
   "name": "python",
   "nbconvert_exporter": "python",
   "pygments_lexer": "ipython2",
   "version": "2.7.6"
  }
 },
 "nbformat": 4,
 "nbformat_minor": 5
}
