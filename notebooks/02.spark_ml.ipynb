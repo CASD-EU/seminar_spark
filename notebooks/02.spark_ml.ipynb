{
 "cells": [
  {
   "metadata": {},
   "cell_type": "markdown",
   "source": [
    "# Use spark for machine learning\n",
    "\n",
    " The source data which we use in this tutorial is publicly available at the [UCI Machine Learning Repository](https://archive.ics.uci.edu/dataset/2/adult). This data consists of `48842` american residents and their annual income. \n",
    " The goal of this tutorial is to train a model which can predict if a person's revenue range is `<=50K` or `>50k` a year.\n",
    " \n",
    "\n",
    "Dataset feature description:\n",
    "\n",
    "| name           | type    | description                                                                                                         |\n",
    "|----------------|---------|---------------------------------------------------------------------------------------------------------------------|\n",
    "| age            | double  | age of the resident                                                                                                 |\n",
    "| workclass      | string  | Simplified employment status of an individual. 9 distinct values: State-gov, Private,Self-emp-not-inc               |\n",
    "| fnlwgt:        | integer | Final weight of the row. Basically interpret as the number of people represented by this row. (Continous, positive) |\n",
    "| education      | string  | The education level. Categorical column, 13 distinct values. (e.g. Bachelors, Some-college, 11th, HS-grad...)       |\n",
    "| education-num: | double  | The education level. Categorical column, 13 distinct values.  (e.g. 7.0, 9.0, 13.0)                                 |\n",
    "| marital-status | string  | Marital status of a person. Categorical column, 7 distinct values Divorced e.g. Never-married, Separated,...        |\n",
    "| occupation     | string  | Rough category of the occupation. (categorical, 15 distinct values) Tech-support, Craft-repair, Sales, ...          |\n",
    "| relationship   | string  | Relationship in terms of the family.  (categorical, 6 distinct values) Wife, Own-child, Husband, ...                |\n",
    "| race           | string  | Race of the person. (categorical, 5 distinct values) White, Asian-Pac-Islander, Amer-Indian-Eskimo, Other, Black    |\n",
    "| sex            | string  | gender at-birth (boolean) Female, Male                                                                              |\n",
    "| capital-gain   | double  | Dollar gain of capital. (continuous)                                                                                |\n",
    "| capital-loss   | double  | Dollar loss of capital. (continuous)                                                                                |\n",
    "| hours-per-week | double  | Working hours per week.(continous positive integer)                                                                 |\n",
    "| native-country | string  | Country at birth.  (categorical, 41 distinct values) United-States, Cambodia, England, Puerto-Rico, Canada, Germany |\n",
    "\n",
    "\n",
    "Dataset label description:\n",
    "\n",
    "| name           | type    | description                                                                 |\n",
    "|----------------|---------|-----------------------------------------------------------------------------|\n",
    "| income-bracket | boolean | Income range of the person. True if ≥ 50K, otherwise False (< 50K per year) |"
   ],
   "id": "2b76538dd88ff8"
  },
  {
   "metadata": {
    "ExecuteTime": {
     "end_time": "2025-04-22T09:51:55.175751Z",
     "start_time": "2025-04-22T09:51:52.622733Z"
    }
   },
   "cell_type": "code",
   "source": [
    "from pyspark.sql.types import StructType, DoubleType, StructField, StringType\n",
    "from pyspark.sql import SparkSession\n",
    "from pyspark.ml import Pipeline\n",
    "from pyspark.ml.feature import StringIndexer, VectorAssembler\n",
    "\n",
    "from pyspark.ml.feature import OneHotEncoder\n",
    "from pyspark.ml.classification import LogisticRegression\n",
    "\n",
    "\n",
    "from pyspark.sql import DataFrame\n",
    "from sklearn.metrics import confusion_matrix\n",
    "import seaborn as sns\n",
    "import matplotlib.pyplot as plt\n",
    "from pyspark.ml.evaluation import BinaryClassificationEvaluator\n",
    "from pyspark.ml.tuning import ParamGridBuilder, CrossValidator"
   ],
   "id": "c58fd82f8a215326",
   "outputs": [],
   "execution_count": 1
  },
  {
   "metadata": {},
   "cell_type": "markdown",
   "source": "## Initialize a Spark Session",
   "id": "42b63e62ae00f209"
  },
  {
   "metadata": {
    "ExecuteTime": {
     "end_time": "2025-04-22T09:52:32.285023Z",
     "start_time": "2025-04-22T09:51:56.923023Z"
    }
   },
   "cell_type": "code",
   "source": [
    "# here we use local mode\n",
    "spark = SparkSession.builder \\\n",
    "    .master(\"local[*]\") \\\n",
    "    .appName(\"spark_ml\") \\\n",
    "    .getOrCreate()"
   ],
   "id": "c436b04c3b2b49b2",
   "outputs": [],
   "execution_count": 2
  },
  {
   "metadata": {},
   "cell_type": "markdown",
   "source": "## Read the sample data",
   "id": "f3927ca7487dff41"
  },
  {
   "metadata": {
    "ExecuteTime": {
     "end_time": "2025-04-22T09:52:42.373133Z",
     "start_time": "2025-04-22T09:52:42.363297Z"
    }
   },
   "cell_type": "code",
   "source": [
    "# data path\n",
    "file_path = \"../data/us_census_1994.csv\"\n",
    "\n",
    "# specify dataset schema\n",
    "schema = StructType([\n",
    "  StructField(\"age\", DoubleType(), False),\n",
    "  StructField(\"workclass\", StringType(), False),\n",
    "  StructField(\"fnlwgt\", DoubleType(), False),\n",
    "  StructField(\"education\", StringType(), False),\n",
    "  StructField(\"education_num\", DoubleType(), False),\n",
    "  StructField(\"marital_status\", StringType(), False),\n",
    "  StructField(\"occupation\", StringType(), False),\n",
    "  StructField(\"relationship\", StringType(), False),\n",
    "  StructField(\"race\", StringType(), False),\n",
    "  StructField(\"sex\", StringType(), False),\n",
    "  StructField(\"capital_gain\", DoubleType(), False),\n",
    "  StructField(\"capital_loss\", DoubleType(), False),\n",
    "  StructField(\"hours_per_week\", DoubleType(), False),\n",
    "  StructField(\"native_country\", StringType(), False),\n",
    "  StructField(\"income\", StringType(), False)\n",
    "])"
   ],
   "id": "418678145b9c01ec",
   "outputs": [],
   "execution_count": 3
  },
  {
   "metadata": {
    "ExecuteTime": {
     "end_time": "2025-04-22T09:52:45.866483Z",
     "start_time": "2025-04-22T09:52:43.675151Z"
    }
   },
   "cell_type": "code",
   "source": [
    "# load dataset\n",
    "df_raw = spark.read.option(\"header\", True).schema(schema).csv(file_path)"
   ],
   "id": "33dd2e1d998aaaf3",
   "outputs": [],
   "execution_count": 4
  },
  {
   "metadata": {
    "ExecuteTime": {
     "end_time": "2025-04-22T09:52:50.030493Z",
     "start_time": "2025-04-22T09:52:46.836702Z"
    }
   },
   "cell_type": "code",
   "source": "df_raw.show(5)",
   "id": "3eb2e9e1692b30ea",
   "outputs": [
    {
     "name": "stdout",
     "output_type": "stream",
     "text": [
      "+----+----------------+--------+---------+-------------+------------------+-----------------+-------------+-----+------+------------+------------+--------------+--------------+------+\n",
      "| age|       workclass|  fnlwgt|education|education_num|    marital_status|       occupation| relationship| race|   sex|capital_gain|capital_loss|hours_per_week|native_country|income|\n",
      "+----+----------------+--------+---------+-------------+------------------+-----------------+-------------+-----+------+------------+------------+--------------+--------------+------+\n",
      "|39.0|       State-gov| 77516.0|Bachelors|         13.0|     Never-married|     Adm-clerical|Not-in-family|White|  Male|      2174.0|         0.0|          40.0| United-States| <=50K|\n",
      "|50.0|Self-emp-not-inc| 83311.0|Bachelors|         13.0|Married-civ-spouse|  Exec-managerial|      Husband|White|  Male|         0.0|         0.0|          13.0| United-States| <=50K|\n",
      "|38.0|         Private|215646.0|  HS-grad|          9.0|          Divorced|Handlers-cleaners|Not-in-family|White|  Male|         0.0|         0.0|          40.0| United-States| <=50K|\n",
      "|53.0|         Private|234721.0|     11th|          7.0|Married-civ-spouse|Handlers-cleaners|      Husband|Black|  Male|         0.0|         0.0|          40.0| United-States| <=50K|\n",
      "|28.0|         Private|338409.0|Bachelors|         13.0|Married-civ-spouse|   Prof-specialty|         Wife|Black|Female|         0.0|         0.0|          40.0|          Cuba| <=50K|\n",
      "+----+----------------+--------+---------+-------------+------------------+-----------------+-------------+-----+------+------------+------------+--------------+--------------+------+\n",
      "only showing top 5 rows\n",
      "\n"
     ]
    }
   ],
   "execution_count": 5
  },
  {
   "metadata": {
    "ExecuteTime": {
     "end_time": "2025-04-22T09:52:51.494877Z",
     "start_time": "2025-04-22T09:52:51.469387Z"
    }
   },
   "cell_type": "code",
   "source": "df_raw.printSchema()",
   "id": "bd88b34259e24500",
   "outputs": [
    {
     "name": "stdout",
     "output_type": "stream",
     "text": [
      "root\n",
      " |-- age: double (nullable = true)\n",
      " |-- workclass: string (nullable = true)\n",
      " |-- fnlwgt: double (nullable = true)\n",
      " |-- education: string (nullable = true)\n",
      " |-- education_num: double (nullable = true)\n",
      " |-- marital_status: string (nullable = true)\n",
      " |-- occupation: string (nullable = true)\n",
      " |-- relationship: string (nullable = true)\n",
      " |-- race: string (nullable = true)\n",
      " |-- sex: string (nullable = true)\n",
      " |-- capital_gain: double (nullable = true)\n",
      " |-- capital_loss: double (nullable = true)\n",
      " |-- hours_per_week: double (nullable = true)\n",
      " |-- native_country: string (nullable = true)\n",
      " |-- income: string (nullable = true)\n",
      "\n"
     ]
    }
   ],
   "execution_count": 6
  },
  {
   "metadata": {},
   "cell_type": "markdown",
   "source": [
    "## Preprocess\n",
    "\n",
    "To use algorithms like `Logistic Regression`, you must first convert the categorical features into numeric variables. There are two ways to do this.\n",
    "\n",
    "In this tutorial, we use `StringIndexer`, and `OneHotEncoder` to do the transformation.\n",
    "\n",
    "> One-Hot Encoding: categories into binary vectors with at most one nonzero value (eg: (Blue: [1, 0]), (Green: [0, 1]), (Red: [0, 0])).\n",
    "\n",
    "### Step1. encode all feature categorical columns with one-hot encoding"
   ],
   "id": "f83b6f2a57c60361"
  },
  {
   "metadata": {
    "ExecuteTime": {
     "end_time": "2025-04-22T09:52:58.495536Z",
     "start_time": "2025-04-22T09:52:58.390206Z"
    }
   },
   "cell_type": "code",
   "source": [
    "# define a suffix for the encoded column name to distinguish with the origin column name\n",
    "suffix_col_name:str = \"classVec\"\n",
    "# specify all categorical columns in the dataset\n",
    "cat_cols = [\"workclass\", \"education\", \"marital_status\", \"occupation\", \"relationship\", \"race\", \"sex\", \"native_country\"]\n",
    "\n",
    "# specify all numerical columns in the dataset\n",
    "num_cols = [\"age\", \"fnlwgt\", \"education_num\", \"capital_gain\", \"capital_loss\", \"hours_per_week\"]\n",
    "\n",
    "# spark allows us to add a list of stages into the preprocessing pipeline. \n",
    "stages = [] \n",
    "\n",
    "for cat_col in cat_cols:\n",
    "    # create a StringIndexer for the feature categorical column\n",
    "    feature_col_indexer = StringIndexer(inputCol=cat_col, outputCol=cat_col + \"Index\")\n",
    "    # create a feature encoder\n",
    "    feature_encoder = OneHotEncoder(inputCols=[feature_col_indexer.getOutputCol()], outputCols=[cat_col + suffix_col_name])\n",
    "    # Here we just add all required stages into the pipeline. These stages are not run here, but will run all at once later on.\n",
    "    stages += [feature_col_indexer, feature_encoder]"
   ],
   "id": "2552a09555cdef16",
   "outputs": [],
   "execution_count": 7
  },
  {
   "metadata": {},
   "cell_type": "markdown",
   "source": [
    "### Step2: Encode label column with string indexer\n",
    "\n",
    "Because the label column is boolean type, no need to use one-hot encoder."
   ],
   "id": "8af75af7a578abe0"
  },
  {
   "metadata": {
    "ExecuteTime": {
     "end_time": "2025-04-22T09:53:02.288738Z",
     "start_time": "2025-04-22T09:53:02.274813Z"
    }
   },
   "cell_type": "code",
   "source": [
    "# create a label stringIndexer which converts label into label indices\n",
    "label_col_indexer = StringIndexer(inputCol=\"income\", outputCol=\"label\")\n",
    "stages += [label_col_indexer]"
   ],
   "id": "8a6fcf431d3b1437",
   "outputs": [],
   "execution_count": 8
  },
  {
   "metadata": {},
   "cell_type": "markdown",
   "source": [
    "### Step3: Transform numeric feature columns into a vector column\n",
    "\n",
    "Now, all feature columns are in numeric. We need to transform them into a vector."
   ],
   "id": "a93bda492de6fde5"
  },
  {
   "metadata": {
    "ExecuteTime": {
     "end_time": "2025-04-22T09:53:05.312598Z",
     "start_time": "2025-04-22T09:53:05.294888Z"
    }
   },
   "cell_type": "code",
   "source": [
    "# We use `VectorAssembler` to transform all features columns into a vector column\n",
    "feature_vec_col_name = \"features\"\n",
    "assemblerInputs = [c + suffix_col_name for c in cat_cols] + num_cols\n",
    "assembler = VectorAssembler(inputCols=assemblerInputs, outputCol=feature_vec_col_name)\n",
    "stages += [assembler]"
   ],
   "id": "2dac96b9c6eacac2",
   "outputs": [],
   "execution_count": 9
  },
  {
   "metadata": {},
   "cell_type": "markdown",
   "source": [
    "### Step 4: Build a pipeline with all the above stages\n",
    "\n",
    "We have all the stages for pre-processing the data. Now we need to build a pipeline and transform the raw data"
   ],
   "id": "586e26d30c182337"
  },
  {
   "metadata": {
    "ExecuteTime": {
     "end_time": "2025-04-22T09:53:12.620134Z",
     "start_time": "2025-04-22T09:53:08.569221Z"
    }
   },
   "cell_type": "code",
   "source": [
    "prepro_pipeline = Pipeline().setStages(stages)\n",
    "prepro_pipeline_model = prepro_pipeline.fit(df_raw)\n",
    "transformed_df = prepro_pipeline_model.transform(df_raw)"
   ],
   "id": "c1bde7c77be208b6",
   "outputs": [],
   "execution_count": 10
  },
  {
   "metadata": {
    "ExecuteTime": {
     "end_time": "2025-04-22T09:53:15.054165Z",
     "start_time": "2025-04-22T09:53:13.619671Z"
    }
   },
   "cell_type": "code",
   "source": "transformed_df.show(5)",
   "id": "8a07313af64a3748",
   "outputs": [
    {
     "name": "stdout",
     "output_type": "stream",
     "text": [
      "+----+----------------+--------+---------+-------------+------------------+-----------------+-------------+-----+------+------------+------------+--------------+--------------+------+--------------+-----------------+--------------+-----------------+-------------------+----------------------+---------------+------------------+-----------------+--------------------+---------+-------------+--------+-------------+-------------------+----------------------+-----+--------------------+\n",
      "| age|       workclass|  fnlwgt|education|education_num|    marital_status|       occupation| relationship| race|   sex|capital_gain|capital_loss|hours_per_week|native_country|income|workclassIndex|workclassclassVec|educationIndex|educationclassVec|marital_statusIndex|marital_statusclassVec|occupationIndex|occupationclassVec|relationshipIndex|relationshipclassVec|raceIndex| raceclassVec|sexIndex|  sexclassVec|native_countryIndex|native_countryclassVec|label|            features|\n",
      "+----+----------------+--------+---------+-------------+------------------+-----------------+-------------+-----+------+------------+------------+--------------+--------------+------+--------------+-----------------+--------------+-----------------+-------------------+----------------------+---------------+------------------+-----------------+--------------------+---------+-------------+--------+-------------+-------------------+----------------------+-----+--------------------+\n",
      "|39.0|       State-gov| 77516.0|Bachelors|         13.0|     Never-married|     Adm-clerical|Not-in-family|White|  Male|      2174.0|         0.0|          40.0| United-States| <=50K|           4.0|    (8,[4],[1.0])|           2.0|   (15,[2],[1.0])|                1.0|         (6,[1],[1.0])|            3.0|    (14,[3],[1.0])|              1.0|       (5,[1],[1.0])|      0.0|(4,[0],[1.0])|     0.0|(1,[0],[1.0])|                0.0|        (41,[0],[1.0])|  0.0|(100,[4,10,24,32,...|\n",
      "|50.0|Self-emp-not-inc| 83311.0|Bachelors|         13.0|Married-civ-spouse|  Exec-managerial|      Husband|White|  Male|         0.0|         0.0|          13.0| United-States| <=50K|           1.0|    (8,[1],[1.0])|           2.0|   (15,[2],[1.0])|                0.0|         (6,[0],[1.0])|            2.0|    (14,[2],[1.0])|              0.0|       (5,[0],[1.0])|      0.0|(4,[0],[1.0])|     0.0|(1,[0],[1.0])|                0.0|        (41,[0],[1.0])|  0.0|(100,[1,10,23,31,...|\n",
      "|38.0|         Private|215646.0|  HS-grad|          9.0|          Divorced|Handlers-cleaners|Not-in-family|White|  Male|         0.0|         0.0|          40.0| United-States| <=50K|           0.0|    (8,[0],[1.0])|           0.0|   (15,[0],[1.0])|                2.0|         (6,[2],[1.0])|            9.0|    (14,[9],[1.0])|              1.0|       (5,[1],[1.0])|      0.0|(4,[0],[1.0])|     0.0|(1,[0],[1.0])|                0.0|        (41,[0],[1.0])|  0.0|(100,[0,8,25,38,4...|\n",
      "|53.0|         Private|234721.0|     11th|          7.0|Married-civ-spouse|Handlers-cleaners|      Husband|Black|  Male|         0.0|         0.0|          40.0| United-States| <=50K|           0.0|    (8,[0],[1.0])|           5.0|   (15,[5],[1.0])|                0.0|         (6,[0],[1.0])|            9.0|    (14,[9],[1.0])|              0.0|       (5,[0],[1.0])|      1.0|(4,[1],[1.0])|     0.0|(1,[0],[1.0])|                0.0|        (41,[0],[1.0])|  0.0|(100,[0,13,23,38,...|\n",
      "|28.0|         Private|338409.0|Bachelors|         13.0|Married-civ-spouse|   Prof-specialty|         Wife|Black|Female|         0.0|         0.0|          40.0|          Cuba| <=50K|           0.0|    (8,[0],[1.0])|           2.0|   (15,[2],[1.0])|                0.0|         (6,[0],[1.0])|            0.0|    (14,[0],[1.0])|              4.0|       (5,[4],[1.0])|      1.0|(4,[1],[1.0])|     1.0|    (1,[],[])|                9.0|        (41,[9],[1.0])|  0.0|(100,[0,10,23,29,...|\n",
      "+----+----------------+--------+---------+-------------+------------------+-----------------+-------------+-----+------+------------+------------+--------------+--------------+------+--------------+-----------------+--------------+-----------------+-------------------+----------------------+---------------+------------------+-----------------+--------------------+---------+-------------+--------+-------------+-------------------+----------------------+-----+--------------------+\n",
      "only showing top 5 rows\n",
      "\n"
     ]
    }
   ],
   "execution_count": 11
  },
  {
   "metadata": {},
   "cell_type": "markdown",
   "source": [
    "## Step5: Drop useless columns\n",
    "\n",
    "All the intermediate indexing columns are useless for the model training, so we need to drop them to improve model training performance.\n",
    "\n",
    "In the `clean_df`, we can notice the `label column` has two distinct values:\n",
    "- 0: <=50k\n",
    "- 1: >50k\n",
    "\n",
    "and the `features column` is the vector which contains all information of the raw features"
   ],
   "id": "cc051fc7c8bb0903"
  },
  {
   "metadata": {
    "ExecuteTime": {
     "end_time": "2025-04-22T09:57:47.158974Z",
     "start_time": "2025-04-22T09:57:46.391574Z"
    }
   },
   "cell_type": "code",
   "source": [
    "# Keep relevant columns\n",
    "origin_feature_cols = df_raw.columns\n",
    "required_cols = [\"label\", \"features\"] + origin_feature_cols\n",
    "clean_df = transformed_df.select(required_cols)\n",
    "clean_df.show(10)"
   ],
   "id": "349624dcfeb94eb7",
   "outputs": [
    {
     "name": "stdout",
     "output_type": "stream",
     "text": [
      "+-----+--------------------+----+----------------+--------+------------+-------------+--------------------+-----------------+-------------+------------------+------+------------+------------+--------------+--------------+------+\n",
      "|label|            features| age|       workclass|  fnlwgt|   education|education_num|      marital_status|       occupation| relationship|              race|   sex|capital_gain|capital_loss|hours_per_week|native_country|income|\n",
      "+-----+--------------------+----+----------------+--------+------------+-------------+--------------------+-----------------+-------------+------------------+------+------------+------------+--------------+--------------+------+\n",
      "|  0.0|(100,[4,10,24,32,...|39.0|       State-gov| 77516.0|   Bachelors|         13.0|       Never-married|     Adm-clerical|Not-in-family|             White|  Male|      2174.0|         0.0|          40.0| United-States| <=50K|\n",
      "|  0.0|(100,[1,10,23,31,...|50.0|Self-emp-not-inc| 83311.0|   Bachelors|         13.0|  Married-civ-spouse|  Exec-managerial|      Husband|             White|  Male|         0.0|         0.0|          13.0| United-States| <=50K|\n",
      "|  0.0|(100,[0,8,25,38,4...|38.0|         Private|215646.0|     HS-grad|          9.0|            Divorced|Handlers-cleaners|Not-in-family|             White|  Male|         0.0|         0.0|          40.0| United-States| <=50K|\n",
      "|  0.0|(100,[0,13,23,38,...|53.0|         Private|234721.0|        11th|          7.0|  Married-civ-spouse|Handlers-cleaners|      Husband|             Black|  Male|         0.0|         0.0|          40.0| United-States| <=50K|\n",
      "|  0.0|(100,[0,10,23,29,...|28.0|         Private|338409.0|   Bachelors|         13.0|  Married-civ-spouse|   Prof-specialty|         Wife|             Black|Female|         0.0|         0.0|          40.0|          Cuba| <=50K|\n",
      "|  0.0|(100,[0,11,23,31,...|37.0|         Private|284582.0|     Masters|         14.0|  Married-civ-spouse|  Exec-managerial|         Wife|             White|Female|         0.0|         0.0|          40.0| United-States| <=50K|\n",
      "|  0.0|(100,[0,18,28,34,...|49.0|         Private|160187.0|         9th|          5.0|Married-spouse-ab...|    Other-service|Not-in-family|             Black|Female|         0.0|         0.0|          16.0|       Jamaica| <=50K|\n",
      "|  1.0|(100,[1,8,23,31,4...|52.0|Self-emp-not-inc|209642.0|     HS-grad|          9.0|  Married-civ-spouse|  Exec-managerial|      Husband|             White|  Male|         0.0|         0.0|          45.0| United-States|  >50K|\n",
      "|  1.0|(100,[0,11,24,29,...|31.0|         Private| 45781.0|     Masters|         14.0|       Never-married|   Prof-specialty|Not-in-family|             White|Female|     14084.0|         0.0|          50.0| United-States|  >50K|\n",
      "|  1.0|(100,[0,10,23,31,...|42.0|         Private|159449.0|   Bachelors|         13.0|  Married-civ-spouse|  Exec-managerial|      Husband|             White|  Male|      5178.0|         0.0|          40.0| United-States|  >50K|\n",
      "|  1.0|(100,[0,9,23,31,4...|37.0|         Private|280464.0|Some-college|         10.0|  Married-civ-spouse|  Exec-managerial|      Husband|             Black|  Male|         0.0|         0.0|          80.0| United-States|  >50K|\n",
      "|  1.0|(100,[4,10,23,29,...|30.0|       State-gov|141297.0|   Bachelors|         13.0|  Married-civ-spouse|   Prof-specialty|      Husband|Asian-Pac-Islander|  Male|         0.0|         0.0|          40.0|         India|  >50K|\n",
      "|  0.0|(100,[0,10,24,32,...|23.0|         Private|122272.0|   Bachelors|         13.0|       Never-married|     Adm-clerical|    Own-child|             White|Female|         0.0|         0.0|          30.0| United-States| <=50K|\n",
      "|  0.0|(100,[0,14,24,33,...|32.0|         Private|205019.0|  Assoc-acdm|         12.0|       Never-married|            Sales|Not-in-family|             Black|  Male|         0.0|         0.0|          50.0| United-States| <=50K|\n",
      "|  1.0|(100,[0,12,23,30,...|40.0|         Private|121772.0|   Assoc-voc|         11.0|  Married-civ-spouse|     Craft-repair|      Husband|Asian-Pac-Islander|  Male|         0.0|         0.0|          40.0|             ?|  >50K|\n",
      "|  0.0|(100,[0,16,23,37,...|34.0|         Private|245487.0|     7th-8th|          4.0|  Married-civ-spouse| Transport-moving|      Husband|Amer-Indian-Eskimo|  Male|         0.0|         0.0|          45.0|        Mexico| <=50K|\n",
      "|  0.0|(100,[1,8,24,39,4...|25.0|Self-emp-not-inc|176756.0|     HS-grad|          9.0|       Never-married|  Farming-fishing|    Own-child|             White|  Male|         0.0|         0.0|          35.0| United-States| <=50K|\n",
      "|  0.0|(100,[0,8,24,35,4...|32.0|         Private|186824.0|     HS-grad|          9.0|       Never-married|Machine-op-inspct|    Unmarried|             White|  Male|         0.0|         0.0|          40.0| United-States| <=50K|\n",
      "|  0.0|(100,[0,13,23,33,...|38.0|         Private| 28887.0|        11th|          7.0|  Married-civ-spouse|            Sales|      Husband|             White|  Male|         0.0|         0.0|          50.0| United-States| <=50K|\n",
      "|  1.0|(100,[1,11,25,31,...|43.0|Self-emp-not-inc|292175.0|     Masters|         14.0|            Divorced|  Exec-managerial|    Unmarried|             White|Female|         0.0|         0.0|          45.0| United-States|  >50K|\n",
      "+-----+--------------------+----+----------------+--------+------------+-------------+--------------------+-----------------+-------------+------------------+------+------------+------------+--------------+--------------+------+\n",
      "only showing top 20 rows\n",
      "\n"
     ]
    }
   ],
   "execution_count": 12
  },
  {
   "metadata": {},
   "cell_type": "markdown",
   "source": "### Step6: Split dataset into training and test sets.",
   "id": "2678350527b3ce83"
  },
  {
   "metadata": {
    "ExecuteTime": {
     "end_time": "2025-04-22T10:11:42.102860Z",
     "start_time": "2025-04-22T10:11:40.662526Z"
    }
   },
   "cell_type": "code",
   "source": [
    "# set seed for reproducibility\n",
    "training_df, test_df = clean_df.randomSplit([0.7, 0.3], seed=100)\n",
    "print(training_df.count())\n",
    "print(test_df.count())"
   ],
   "id": "be3e854218b8c592",
   "outputs": [
    {
     "name": "stdout",
     "output_type": "stream",
     "text": [
      "22832\n",
      "9729\n"
     ]
    }
   ],
   "execution_count": 14
  },
  {
   "metadata": {},
   "cell_type": "markdown",
   "source": [
    "## Train a logistic regression model\n",
    "\n",
    "\n",
    "\n"
   ],
   "id": "dccfce7f7ea8ec83"
  },
  {
   "metadata": {
    "ExecuteTime": {
     "end_time": "2025-04-22T10:12:24.216686Z",
     "start_time": "2025-04-22T10:12:19.539475Z"
    }
   },
   "cell_type": "code",
   "source": [
    "label_col_name = \"label\"\n",
    "\n",
    "# Create initial LogisticRegression model\n",
    "lr = LogisticRegression(labelCol=label_col_name, featuresCol=feature_vec_col_name, maxIter=10)\n",
    "\n",
    "# Train model with Training Data\n",
    "lr_model = lr.fit(training_df)"
   ],
   "id": "a4143c546ea1736e",
   "outputs": [],
   "execution_count": 15
  },
  {
   "metadata": {
    "ExecuteTime": {
     "end_time": "2025-04-22T10:13:14.784335Z",
     "start_time": "2025-04-22T10:13:14.710781Z"
    }
   },
   "cell_type": "code",
   "source": [
    "# Make predictions on test data using the transform() method.\n",
    "# LogisticRegression.transform() will only use the 'features' column.\n",
    "predictions = lr_model.transform(test_df)"
   ],
   "id": "91b9a930d62a7b40",
   "outputs": [],
   "execution_count": 16
  },
  {
   "metadata": {
    "ExecuteTime": {
     "end_time": "2025-04-22T10:13:53.541033Z",
     "start_time": "2025-04-22T10:13:52.622347Z"
    }
   },
   "cell_type": "code",
   "source": [
    "# View model's predictions and probabilities of each prediction class\n",
    "# You can select any columns in the above schema to view as well\n",
    "selected = predictions.select(\"label\", \"prediction\", \"probability\", \"age\", \"occupation\")\n",
    "selected.show(5)"
   ],
   "id": "b8088c62de2f5095",
   "outputs": [
    {
     "name": "stdout",
     "output_type": "stream",
     "text": [
      "+-----+----------+--------------------+----+--------------+\n",
      "|label|prediction|         probability| age|    occupation|\n",
      "+-----+----------+--------------------+----+--------------+\n",
      "|  0.0|       1.0|[0.16646708724833...|36.0|Prof-specialty|\n",
      "|  0.0|       0.0|[0.70012031106347...|32.0|Prof-specialty|\n",
      "|  0.0|       0.0|[0.53453682932965...|33.0|Prof-specialty|\n",
      "|  0.0|       0.0|[0.67559303222185...|39.0|Prof-specialty|\n",
      "|  0.0|       0.0|[0.62237992652147...|39.0|Prof-specialty|\n",
      "+-----+----------+--------------------+----+--------------+\n",
      "only showing top 5 rows\n",
      "\n"
     ]
    }
   ],
   "execution_count": 17
  },
  {
   "metadata": {},
   "cell_type": "markdown",
   "source": "## Evaluate the model",
   "id": "95fbc3f36f5f85cd"
  },
  {
   "metadata": {
    "ExecuteTime": {
     "end_time": "2025-04-22T10:25:17.051651Z",
     "start_time": "2025-04-22T10:25:16.067874Z"
    }
   },
   "cell_type": "code",
   "source": [
    "# Evaluate model\n",
    "evaluator = BinaryClassificationEvaluator()\n",
    "evaluator_metric_name = evaluator.getMetricName()\n",
    "evaluator_metric_value = evaluator.evaluate(predictions)\n",
    "\n",
    "print(f\"The model precision: {evaluator_metric_value}.(measure algo: {evaluator_metric_name}) \")"
   ],
   "id": "5b5ab1a86fc96a06",
   "outputs": [
    {
     "name": "stdout",
     "output_type": "stream",
     "text": [
      "The model precision: 0.9010633018702178.(measure algo:areaUnderROC) \n"
     ]
    }
   ],
   "execution_count": 19
  },
  {
   "metadata": {
    "ExecuteTime": {
     "end_time": "2025-04-22T09:02:54.364923Z",
     "start_time": "2025-04-22T09:02:54.360926Z"
    }
   },
   "cell_type": "code",
   "source": [
    "def show_roc(lrModel: LogisticRegression):\n",
    "    trainingSummary = lrModel.summary\n",
    "    roc_df = trainingSummary.roc.toPandas()\n",
    "    auc = trainingSummary.areaUnderROC\n",
    "    \n",
    "    # Plot ROC Curve\n",
    "    plt.figure(figsize=(6, 6))\n",
    "    plt.plot(roc_df['FPR'], roc_df['TPR'], label=f\"ROC Curve (AUC = {auc:.4f})\")\n",
    "    plt.plot([0, 1], [0, 1], 'r--', label=\"Random Classifier\")\n",
    "    plt.xlabel(\"False Positive Rate\")\n",
    "    plt.ylabel(\"True Positive Rate\")\n",
    "    plt.title(\"Receiver Operating Characteristic (ROC)\")\n",
    "    plt.legend(loc=\"lower right\")\n",
    "    plt.grid(True)\n",
    "    plt.tight_layout()\n",
    "    plt.show()"
   ],
   "id": "7883291493f7139c",
   "outputs": [],
   "execution_count": 35
  },
  {
   "metadata": {
    "ExecuteTime": {
     "end_time": "2025-04-22T08:57:14.274680Z",
     "start_time": "2025-04-22T08:57:13.399541Z"
    }
   },
   "cell_type": "code",
   "source": [
    "\n",
    "\n",
    "\n",
    "def show_cm(lrModel: LogisticRegression, transformed_df: DataFrame):\n",
    "    # Predict on validation or test set\n",
    "    predictions = lrModel.transform(transformed_df)\n",
    "\n",
    "    # Get predictions and labels\n",
    "    preds_pd = predictions.select(\"label\", \"prediction\").toPandas()\n",
    "    \n",
    "    # Create confusion matrix\n",
    "    cm = confusion_matrix(preds_pd[\"label\"], preds_pd[\"prediction\"])\n",
    "    \n",
    "    # Optional: create labels if you know them\n",
    "    labels = [\"Negative\", \"Positive\"]  # or [0, 1] if you're working with numeric classes\n",
    "    \n",
    "    # Plot using Seaborn\n",
    "    plt.figure(figsize=(6, 5))\n",
    "    sns.heatmap(cm, annot=True, fmt=\"d\", cmap=\"Blues\", xticklabels=labels, yticklabels=labels)\n",
    "    plt.xlabel(\"Predicted Label\")\n",
    "    plt.ylabel(\"True Label\")\n",
    "    plt.title(\"Confusion Matrix\")\n",
    "    plt.show()\n"
   ],
   "id": "72adaaab8cd06562",
   "outputs": [],
   "execution_count": 31
  },
  {
   "metadata": {
    "ExecuteTime": {
     "end_time": "2025-04-22T08:53:03.254873Z",
     "start_time": "2025-04-22T08:53:03.247824Z"
    }
   },
   "cell_type": "code",
   "source": [
    "def show_prc(lrModel: LogisticRegression):\n",
    "    trainingSummary = lrModel.summary\n",
    "    pr_df = trainingSummary.pr.toPandas()\n",
    "    plt.plot(pr_df['recall'], pr_df['precision'])\n",
    "    plt.xlabel(\"Recall\")\n",
    "    plt.ylabel(\"Precision\")\n",
    "    plt.title(\"Precision-Recall Curve\")\n",
    "    plt.grid(True)\n",
    "    plt.show()\n",
    "\n"
   ],
   "id": "c5371ab8b4c217d4",
   "outputs": [],
   "execution_count": 29
  },
  {
   "metadata": {
    "ExecuteTime": {
     "end_time": "2025-04-22T09:03:02.783436Z",
     "start_time": "2025-04-22T09:02:58.778816Z"
    }
   },
   "cell_type": "code",
   "source": [
    "# Fit model to prepped data\n",
    "lrModel = LogisticRegression().fit(transformed_df)\n",
    "\n",
    "# ROC for training data\n",
    "show_roc(lrModel)"
   ],
   "id": "a3fd6fcfd8233049",
   "outputs": [
    {
     "data": {
      "text/plain": [
       "<Figure size 600x600 with 1 Axes>"
      ],
      "image/png": "[encoded data removed]"
     },
     "metadata": {},
     "output_type": "display_data"
    }
   ],
   "execution_count": 36
  },
  {
   "metadata": {
    "ExecuteTime": {
     "end_time": "2025-04-22T08:53:22.514053Z",
     "start_time": "2025-04-22T08:53:22.311414Z"
    }
   },
   "cell_type": "code",
   "source": "show_prc(lrModel)",
   "id": "9a9ce6a6a4bd4ac3",
   "outputs": [
    {
     "data": {
      "text/plain": [
       "<Figure size 640x480 with 1 Axes>"
      ],
      "image/png": "[encoded data removed]"
     },
     "metadata": {},
     "output_type": "display_data"
    }
   ],
   "execution_count": 30
  },
  {
   "metadata": {
    "ExecuteTime": {
     "end_time": "2025-04-22T08:57:21.736545Z",
     "start_time": "2025-04-22T08:57:20.842112Z"
    }
   },
   "cell_type": "code",
   "source": "show_cm(lrModel, transformed_df)",
   "id": "3191914dc344a655",
   "outputs": [
    {
     "data": {
      "text/plain": [
       "<Figure size 600x500 with 2 Axes>"
      ],
      "image/png": "[encoded data removed]"
     },
     "metadata": {},
     "output_type": "display_data"
    }
   ],
   "execution_count": 32
  },
  {
   "metadata": {
    "ExecuteTime": {
     "end_time": "2025-04-22T09:05:14.149995Z",
     "start_time": "2025-04-22T09:05:13.788671Z"
    }
   },
   "cell_type": "code",
   "source": "",
   "id": "69c7df2aea1c5be2",
   "outputs": [
    {
     "name": "stdout",
     "output_type": "stream",
     "text": [
      "+-----+--------------------+----+----------------+--------+------------+-------------+--------------------+-----------------+-------------+------------------+------+------------+------------+--------------+--------------+------+\n",
      "|label|            features| age|       workclass|  fnlwgt|   education|education_num|      marital_status|       occupation| relationship|              race|   sex|capital_gain|capital_loss|hours_per_week|native_country|income|\n",
      "+-----+--------------------+----+----------------+--------+------------+-------------+--------------------+-----------------+-------------+------------------+------+------------+------------+--------------+--------------+------+\n",
      "|  0.0|(100,[4,10,24,32,...|39.0|       State-gov| 77516.0|   Bachelors|         13.0|       Never-married|     Adm-clerical|Not-in-family|             White|  Male|      2174.0|         0.0|          40.0| United-States| <=50K|\n",
      "|  0.0|(100,[1,10,23,31,...|50.0|Self-emp-not-inc| 83311.0|   Bachelors|         13.0|  Married-civ-spouse|  Exec-managerial|      Husband|             White|  Male|         0.0|         0.0|          13.0| United-States| <=50K|\n",
      "|  0.0|(100,[0,8,25,38,4...|38.0|         Private|215646.0|     HS-grad|          9.0|            Divorced|Handlers-cleaners|Not-in-family|             White|  Male|         0.0|         0.0|          40.0| United-States| <=50K|\n",
      "|  0.0|(100,[0,13,23,38,...|53.0|         Private|234721.0|        11th|          7.0|  Married-civ-spouse|Handlers-cleaners|      Husband|             Black|  Male|         0.0|         0.0|          40.0| United-States| <=50K|\n",
      "|  0.0|(100,[0,10,23,29,...|28.0|         Private|338409.0|   Bachelors|         13.0|  Married-civ-spouse|   Prof-specialty|         Wife|             Black|Female|         0.0|         0.0|          40.0|          Cuba| <=50K|\n",
      "|  0.0|(100,[0,11,23,31,...|37.0|         Private|284582.0|     Masters|         14.0|  Married-civ-spouse|  Exec-managerial|         Wife|             White|Female|         0.0|         0.0|          40.0| United-States| <=50K|\n",
      "|  0.0|(100,[0,18,28,34,...|49.0|         Private|160187.0|         9th|          5.0|Married-spouse-ab...|    Other-service|Not-in-family|             Black|Female|         0.0|         0.0|          16.0|       Jamaica| <=50K|\n",
      "|  1.0|(100,[1,8,23,31,4...|52.0|Self-emp-not-inc|209642.0|     HS-grad|          9.0|  Married-civ-spouse|  Exec-managerial|      Husband|             White|  Male|         0.0|         0.0|          45.0| United-States|  >50K|\n",
      "|  1.0|(100,[0,11,24,29,...|31.0|         Private| 45781.0|     Masters|         14.0|       Never-married|   Prof-specialty|Not-in-family|             White|Female|     14084.0|         0.0|          50.0| United-States|  >50K|\n",
      "|  1.0|(100,[0,10,23,31,...|42.0|         Private|159449.0|   Bachelors|         13.0|  Married-civ-spouse|  Exec-managerial|      Husband|             White|  Male|      5178.0|         0.0|          40.0| United-States|  >50K|\n",
      "|  1.0|(100,[0,9,23,31,4...|37.0|         Private|280464.0|Some-college|         10.0|  Married-civ-spouse|  Exec-managerial|      Husband|             Black|  Male|         0.0|         0.0|          80.0| United-States|  >50K|\n",
      "|  1.0|(100,[4,10,23,29,...|30.0|       State-gov|141297.0|   Bachelors|         13.0|  Married-civ-spouse|   Prof-specialty|      Husband|Asian-Pac-Islander|  Male|         0.0|         0.0|          40.0|         India|  >50K|\n",
      "|  0.0|(100,[0,10,24,32,...|23.0|         Private|122272.0|   Bachelors|         13.0|       Never-married|     Adm-clerical|    Own-child|             White|Female|         0.0|         0.0|          30.0| United-States| <=50K|\n",
      "|  0.0|(100,[0,14,24,33,...|32.0|         Private|205019.0|  Assoc-acdm|         12.0|       Never-married|            Sales|Not-in-family|             Black|  Male|         0.0|         0.0|          50.0| United-States| <=50K|\n",
      "|  1.0|(100,[0,12,23,30,...|40.0|         Private|121772.0|   Assoc-voc|         11.0|  Married-civ-spouse|     Craft-repair|      Husband|Asian-Pac-Islander|  Male|         0.0|         0.0|          40.0|             ?|  >50K|\n",
      "|  0.0|(100,[0,16,23,37,...|34.0|         Private|245487.0|     7th-8th|          4.0|  Married-civ-spouse| Transport-moving|      Husband|Amer-Indian-Eskimo|  Male|         0.0|         0.0|          45.0|        Mexico| <=50K|\n",
      "|  0.0|(100,[1,8,24,39,4...|25.0|Self-emp-not-inc|176756.0|     HS-grad|          9.0|       Never-married|  Farming-fishing|    Own-child|             White|  Male|         0.0|         0.0|          35.0| United-States| <=50K|\n",
      "|  0.0|(100,[0,8,24,35,4...|32.0|         Private|186824.0|     HS-grad|          9.0|       Never-married|Machine-op-inspct|    Unmarried|             White|  Male|         0.0|         0.0|          40.0| United-States| <=50K|\n",
      "|  0.0|(100,[0,13,23,33,...|38.0|         Private| 28887.0|        11th|          7.0|  Married-civ-spouse|            Sales|      Husband|             White|  Male|         0.0|         0.0|          50.0| United-States| <=50K|\n",
      "|  1.0|(100,[1,11,25,31,...|43.0|Self-emp-not-inc|292175.0|     Masters|         14.0|            Divorced|  Exec-managerial|    Unmarried|             White|Female|         0.0|         0.0|          45.0| United-States|  >50K|\n",
      "+-----+--------------------+----+----------------+--------+------------+-------------+--------------------+-----------------+-------------+------------------+------+------------+------------+--------------+--------------+------+\n",
      "only showing top 20 rows\n",
      "\n"
     ]
    }
   ],
   "execution_count": 37
  },
  {
   "metadata": {
    "ExecuteTime": {
     "end_time": "2025-04-22T09:05:50.285032Z",
     "start_time": "2025-04-22T09:05:48.476922Z"
    }
   },
   "cell_type": "code",
   "source": "",
   "id": "b3f09e7badd8049e",
   "outputs": [
    {
     "name": "stdout",
     "output_type": "stream",
     "text": [
      "22832\n",
      "9729\n"
     ]
    }
   ],
   "execution_count": 38
  },
  {
   "metadata": {
    "ExecuteTime": {
     "end_time": "2025-04-22T09:06:07.774655Z",
     "start_time": "2025-04-22T09:06:05.942912Z"
    }
   },
   "cell_type": "code",
   "source": "",
   "id": "5b4ce910980f5df1",
   "outputs": [],
   "execution_count": 39
  },
  {
   "metadata": {
    "ExecuteTime": {
     "end_time": "2025-04-22T09:06:24.596607Z",
     "start_time": "2025-04-22T09:06:24.539797Z"
    }
   },
   "cell_type": "code",
   "source": "",
   "id": "3db3126326c3a254",
   "outputs": [],
   "execution_count": 40
  },
  {
   "metadata": {
    "ExecuteTime": {
     "end_time": "2025-04-22T09:06:49.091968Z",
     "start_time": "2025-04-22T09:06:48.445133Z"
    }
   },
   "cell_type": "code",
   "source": "",
   "id": "3882cf0456a984d5",
   "outputs": [
    {
     "name": "stdout",
     "output_type": "stream",
     "text": [
      "+-----+----------+--------------------+----+--------------+\n",
      "|label|prediction|         probability| age|    occupation|\n",
      "+-----+----------+--------------------+----+--------------+\n",
      "|  0.0|       1.0|[0.16646708724833...|36.0|Prof-specialty|\n",
      "|  0.0|       0.0|[0.70012031106347...|32.0|Prof-specialty|\n",
      "|  0.0|       0.0|[0.53453682932965...|33.0|Prof-specialty|\n",
      "|  0.0|       0.0|[0.67559303222185...|39.0|Prof-specialty|\n",
      "|  0.0|       0.0|[0.62237992652147...|39.0|Prof-specialty|\n",
      "+-----+----------+--------------------+----+--------------+\n",
      "only showing top 5 rows\n",
      "\n"
     ]
    }
   ],
   "execution_count": 41
  },
  {
   "metadata": {
    "ExecuteTime": {
     "end_time": "2025-04-22T09:07:20.376048Z",
     "start_time": "2025-04-22T09:07:18.983209Z"
    }
   },
   "cell_type": "code",
   "source": "",
   "id": "f5084cbad12bf1b5",
   "outputs": [
    {
     "data": {
      "text/plain": [
       "0.9010633018702178"
      ]
     },
     "execution_count": 42,
     "metadata": {},
     "output_type": "execute_result"
    }
   ],
   "execution_count": 42
  },
  {
   "metadata": {
    "ExecuteTime": {
     "end_time": "2025-04-22T09:07:37.081169Z",
     "start_time": "2025-04-22T09:07:37.076569Z"
    }
   },
   "cell_type": "code",
   "source": "",
   "id": "51606fbc7096774c",
   "outputs": [
    {
     "data": {
      "text/plain": [
       "'areaUnderROC'"
      ]
     },
     "execution_count": 43,
     "metadata": {},
     "output_type": "execute_result"
    }
   ],
   "execution_count": 43
  },
  {
   "metadata": {
    "ExecuteTime": {
     "end_time": "2025-04-22T09:07:59.971254Z",
     "start_time": "2025-04-22T09:07:59.965995Z"
    }
   },
   "cell_type": "code",
   "source": "print(lr.explainParams())",
   "id": "91980e35642cb697",
   "outputs": [
    {
     "name": "stdout",
     "output_type": "stream",
     "text": [
      "aggregationDepth: suggested depth for treeAggregate (>= 2). (default: 2)\n",
      "elasticNetParam: the ElasticNet mixing parameter, in range [0, 1]. For alpha = 0, the penalty is an L2 penalty. For alpha = 1, it is an L1 penalty. (default: 0.0)\n",
      "family: The name of family which is a description of the label distribution to be used in the model. Supported options: auto, binomial, multinomial (default: auto)\n",
      "featuresCol: features column name. (default: features, current: features)\n",
      "fitIntercept: whether to fit an intercept term. (default: True)\n",
      "labelCol: label column name. (default: label, current: label)\n",
      "lowerBoundsOnCoefficients: The lower bounds on coefficients if fitting under bound constrained optimization. The bound matrix must be compatible with the shape (1, number of features) for binomial regression, or (number of classes, number of features) for multinomial regression. (undefined)\n",
      "lowerBoundsOnIntercepts: The lower bounds on intercepts if fitting under bound constrained optimization. The bounds vector size must beequal with 1 for binomial regression, or the number oflasses for multinomial regression. (undefined)\n",
      "maxBlockSizeInMB: maximum memory in MB for stacking input data into blocks. Data is stacked within partitions. If more than remaining data size in a partition then it is adjusted to the data size. Default 0.0 represents choosing optimal value, depends on specific algorithm. Must be >= 0. (default: 0.0)\n",
      "maxIter: max number of iterations (>= 0). (default: 100, current: 10)\n",
      "predictionCol: prediction column name. (default: prediction)\n",
      "probabilityCol: Column name for predicted class conditional probabilities. Note: Not all models output well-calibrated probability estimates! These probabilities should be treated as confidences, not precise probabilities. (default: probability)\n",
      "rawPredictionCol: raw prediction (a.k.a. confidence) column name. (default: rawPrediction)\n",
      "regParam: regularization parameter (>= 0). (default: 0.0)\n",
      "standardization: whether to standardize the training features before fitting the model. (default: True)\n",
      "threshold: Threshold in binary classification prediction, in range [0, 1]. If threshold and thresholds are both set, they must match.e.g. if threshold is p, then thresholds must be equal to [1-p, p]. (default: 0.5)\n",
      "thresholds: Thresholds in multi-class classification to adjust the probability of predicting each class. Array must have length equal to the number of classes, with values > 0, excepting that at most one value may be 0. The class with largest value p/t is predicted, where p is the original probability of that class and t is the class's threshold. (undefined)\n",
      "tol: the convergence tolerance for iterative algorithms (>= 0). (default: 1e-06)\n",
      "upperBoundsOnCoefficients: The upper bounds on coefficients if fitting under bound constrained optimization. The bound matrix must be compatible with the shape (1, number of features) for binomial regression, or (number of classes, number of features) for multinomial regression. (undefined)\n",
      "upperBoundsOnIntercepts: The upper bounds on intercepts if fitting under bound constrained optimization. The bound vector size must be equal with 1 for binomial regression, or the number of classes for multinomial regression. (undefined)\n",
      "weightCol: weight column name. If this is not set or empty, we treat all instance weights as 1.0. (undefined)\n"
     ]
    }
   ],
   "execution_count": 44
  },
  {
   "metadata": {
    "ExecuteTime": {
     "end_time": "2025-04-22T09:08:23.783667Z",
     "start_time": "2025-04-22T09:08:23.766966Z"
    }
   },
   "cell_type": "code",
   "source": [
    "\n",
    "\n",
    "# Create ParamGrid for Cross Validation\n",
    "paramGrid = (ParamGridBuilder()\n",
    "             .addGrid(lr.regParam, [0.01, 0.5, 2.0])\n",
    "             .addGrid(lr.elasticNetParam, [0.0, 0.5, 1.0])\n",
    "             .addGrid(lr.maxIter, [1, 5, 10])\n",
    "             .build())"
   ],
   "id": "3dda694542a489be",
   "outputs": [],
   "execution_count": 45
  },
  {
   "metadata": {
    "ExecuteTime": {
     "end_time": "2025-04-22T09:09:59.039581Z",
     "start_time": "2025-04-22T09:08:41.036742Z"
    }
   },
   "cell_type": "code",
   "source": [
    "# Create 5-fold CrossValidator\n",
    "cv = CrossValidator(estimator=lr, estimatorParamMaps=paramGrid, evaluator=evaluator, numFolds=5)\n",
    "\n",
    "# Run cross validations\n",
    "cvModel = cv.fit(trainingData)\n",
    "# this will likely take a fair amount of time because of the amount of models that we're creating and testing"
   ],
   "id": "e7e77687e8bc2032",
   "outputs": [],
   "execution_count": 46
  },
  {
   "metadata": {
    "ExecuteTime": {
     "end_time": "2025-04-22T09:10:08.350387Z",
     "start_time": "2025-04-22T09:10:08.318712Z"
    }
   },
   "cell_type": "code",
   "source": [
    "# Use the test set to measure the accuracy of the model on new data\n",
    "predictions = cvModel.transform(testData)"
   ],
   "id": "708571b8b49bcbf",
   "outputs": [],
   "execution_count": 48
  },
  {
   "metadata": {
    "ExecuteTime": {
     "end_time": "2025-04-22T09:10:09.934086Z",
     "start_time": "2025-04-22T09:10:09.030936Z"
    }
   },
   "cell_type": "code",
   "source": [
    "# cvModel uses the best model found from the Cross Validation\n",
    "# Evaluate best model\n",
    "evaluator.evaluate(predictions)"
   ],
   "id": "9e8415476c2550eb",
   "outputs": [
    {
     "data": {
      "text/plain": [
       "0.8997203469558716"
      ]
     },
     "execution_count": 49,
     "metadata": {},
     "output_type": "execute_result"
    }
   ],
   "execution_count": 49
  },
  {
   "metadata": {
    "ExecuteTime": {
     "end_time": "2025-04-22T09:10:11.154934Z",
     "start_time": "2025-04-22T09:10:11.148981Z"
    }
   },
   "cell_type": "code",
   "source": "print('Model Intercept: ', cvModel.bestModel.intercept)",
   "id": "1f0872f8600b94fb",
   "outputs": [
    {
     "name": "stdout",
     "output_type": "stream",
     "text": [
      "Model Intercept:  -6.336365999298099\n"
     ]
    }
   ],
   "execution_count": 50
  },
  {
   "metadata": {
    "ExecuteTime": {
     "end_time": "2025-04-22T09:10:12.942560Z",
     "start_time": "2025-04-22T09:10:12.000417Z"
    }
   },
   "cell_type": "code",
   "source": [
    "weights = cvModel.bestModel.coefficients\n",
    "weights = [(float(w),) for w in weights]  # convert numpy type to float, and to tuple\n",
    "weightsDF = spark.createDataFrame(weights, [\"Feature Weight\"])\n",
    "weightsDF.show(5)"
   ],
   "id": "5d7341c87bf1e5bd",
   "outputs": [
    {
     "name": "stdout",
     "output_type": "stream",
     "text": [
      "+--------------------+\n",
      "|      Feature Weight|\n",
      "+--------------------+\n",
      "| 0.10492555077522134|\n",
      "| -0.3128222519796268|\n",
      "|-0.06075451360468...|\n",
      "| -0.2721306281794785|\n",
      "|-0.14581243598919214|\n",
      "+--------------------+\n",
      "only showing top 5 rows\n",
      "\n"
     ]
    }
   ],
   "execution_count": 51
  },
  {
   "metadata": {
    "ExecuteTime": {
     "end_time": "2025-04-22T09:10:26.260019Z",
     "start_time": "2025-04-22T09:10:25.766332Z"
    }
   },
   "cell_type": "code",
   "source": [
    "# View best model's predictions and probabilities of each prediction class\n",
    "selected = predictions.select(\"label\", \"prediction\", \"probability\", \"age\", \"occupation\")\n",
    "selected.show(5)"
   ],
   "id": "9d27f9ed6fba67f",
   "outputs": [
    {
     "name": "stdout",
     "output_type": "stream",
     "text": [
      "+-----+----------+--------------------+----+--------------+\n",
      "|label|prediction|         probability| age|    occupation|\n",
      "+-----+----------+--------------------+----+--------------+\n",
      "|  0.0|       1.0|[0.21060910009532...|36.0|Prof-specialty|\n",
      "|  0.0|       0.0|[0.68097448822474...|32.0|Prof-specialty|\n",
      "|  0.0|       0.0|[0.54341491059548...|33.0|Prof-specialty|\n",
      "|  0.0|       0.0|[0.65860417846993...|39.0|Prof-specialty|\n",
      "|  0.0|       0.0|[0.61463593853443...|39.0|Prof-specialty|\n",
      "+-----+----------+--------------------+----+--------------+\n",
      "only showing top 5 rows\n",
      "\n"
     ]
    }
   ],
   "execution_count": 52
  },
  {
   "metadata": {},
   "cell_type": "code",
   "outputs": [],
   "execution_count": null,
   "source": "",
   "id": "d617fe673ee2c3e9"
  },
  {
   "metadata": {},
   "cell_type": "code",
   "outputs": [],
   "execution_count": null,
   "source": "",
   "id": "c3fbf2904b3c2c6e"
  }
 ],
 "metadata": {
  "kernelspec": {
   "display_name": "Python 3",
   "language": "python",
   "name": "python3"
  },
  "language_info": {
   "codemirror_mode": {
    "name": "ipython",
    "version": 2
   },
   "file_extension": ".py",
   "mimetype": "text/x-python",
   "name": "python",
   "nbconvert_exporter": "python",
   "pygments_lexer": "ipython2",
   "version": "2.7.6"
  }
 },
 "nbformat": 4,
 "nbformat_minor": 5
}
