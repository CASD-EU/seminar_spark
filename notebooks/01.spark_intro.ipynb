{
 "cells": [
  {
   "metadata": {},
   "cell_type": "markdown",
   "source": "# 01 word count",
   "id": "584c85886203e884"
  },
  {
   "metadata": {
    "ExecuteTime": {
     "end_time": "2025-04-18T13:25:05.598275Z",
     "start_time": "2025-04-18T13:24:59.017285Z"
    }
   },
   "cell_type": "code",
   "source": [
    "from pyspark.sql import SparkSession\n",
    "from pyspark.sql.functions import explode, split, lower, col, count\n",
    "\n",
    "# Initialize a Spark Session\n",
    "spark = SparkSession.builder \\\n",
    "    .master(\"local[*]\") \\\n",
    "    .appName(\"WordCount\") \\\n",
    "    .getOrCreate()"
   ],
   "id": "5542b3be6adc7b54",
   "outputs": [],
   "execution_count": 1
  },
  {
   "metadata": {
    "ExecuteTime": {
     "end_time": "2025-04-18T13:25:22.691361Z",
     "start_time": "2025-04-18T13:25:18.649202Z"
    }
   },
   "cell_type": "code",
   "source": [
    "# data path\n",
    "file_path = \"../data/le_petit_prince.txt\"\n",
    "# Read text file into DataFrame\n",
    "# Each line becomes a row in the DataFrame\n",
    "df = spark.read.text(file_path)"
   ],
   "id": "51319dcfe7ecd97",
   "outputs": [],
   "execution_count": 2
  },
  {
   "metadata": {
    "ExecuteTime": {
     "end_time": "2025-04-18T13:25:37.267896Z",
     "start_time": "2025-04-18T13:25:37.047652Z"
    }
   },
   "cell_type": "code",
   "source": [
    "# Process the text and count words\n",
    "word_counts = df \\\n",
    "    .select(explode(split(lower(col(\"value\")), \"\\\\s+\")).alias(\"word\")) \\\n",
    "    .filter(col(\"word\") != \"\") \\\n",
    "    .groupBy(\"word\") \\\n",
    "    .count() \\\n",
    "    .orderBy(\"count\", ascending=False)"
   ],
   "id": "9fa4c2408c2d0ca8",
   "outputs": [],
   "execution_count": 3
  },
  {
   "metadata": {
    "ExecuteTime": {
     "end_time": "2025-04-18T13:25:58.029718Z",
     "start_time": "2025-04-18T13:25:52.438958Z"
    }
   },
   "cell_type": "code",
   "source": [
    "# Show top 20 most frequent words\n",
    "word_counts.show(50)  "
   ],
   "id": "aeeef90a90849f0d",
   "outputs": [
    {
     "name": "stdout",
     "output_type": "stream",
     "text": [
      "+-------+-----+\n",
      "|   word|count|\n",
      "+-------+-----+\n",
      "|     le|  454|\n",
      "|      -|  434|\n",
      "|     de|  428|\n",
      "|     je|  316|\n",
      "|     et|  283|\n",
      "|     il|  260|\n",
      "|    les|  249|\n",
      "|     un|  230|\n",
      "|     la|  219|\n",
      "|  petit|  193|\n",
      "|      à|  178|\n",
      "|     ne|  169|\n",
      "|    que|  154|\n",
      "|    pas|  148|\n",
      "|     tu|  136|\n",
      "|    des|  131|\n",
      "|  c'est|  126|\n",
      "|    dit|  125|\n",
      "|      ?|  125|\n",
      "|      !|  123|\n",
      "|   mais|  123|\n",
      "|    une|  123|\n",
      "|     me|  103|\n",
      "|   pour|   98|\n",
      "|    qui|   97|\n",
      "|     ce|   94|\n",
      "|   bien|   92|\n",
      "|     se|   85|\n",
      "|      :|   84|\n",
      "|  comme|   80|\n",
      "|     en|   79|\n",
      "|    est|   77|\n",
      "| prince|   74|\n",
      "|     du|   71|\n",
      "|     si|   67|\n",
      "|     ça|   66|\n",
      "|    sur|   66|\n",
      "|   dans|   63|\n",
      "|   j'ai|   62|\n",
      "|    mon|   61|\n",
      "|   elle|   58|\n",
      "|   plus|   53|\n",
      "|     au|   51|\n",
      "|prince.|   50|\n",
      "|   tout|   49|\n",
      "|   très|   49|\n",
      "|    lui|   47|\n",
      "|    par|   47|\n",
      "|    son|   46|\n",
      "|     on|   46|\n",
      "+-------+-----+\n",
      "only showing top 50 rows\n",
      "\n"
     ]
    }
   ],
   "execution_count": 4
  },
  {
   "metadata": {
    "ExecuteTime": {
     "end_time": "2025-04-18T13:27:10.124187Z",
     "start_time": "2025-04-18T13:27:07.969090Z"
    }
   },
   "cell_type": "code",
   "source": [
    "# Save results if needed\n",
    "output_file_path = \"../data/out/le_petit_prince_count\"\n",
    "word_counts.write.csv(output_file_path, header=True)"
   ],
   "id": "55b22e4955207f9d",
   "outputs": [],
   "execution_count": 5
  },
  {
   "metadata": {},
   "cell_type": "code",
   "outputs": [],
   "execution_count": null,
   "source": [
    "# Stop the Spark session\n",
    "spark.stop()"
   ],
   "id": "4af5b229da4ab006"
  }
 ],
 "metadata": {
  "kernelspec": {
   "display_name": "Python 3",
   "language": "python",
   "name": "python3"
  },
  "language_info": {
   "codemirror_mode": {
    "name": "ipython",
    "version": 2
   },
   "file_extension": ".py",
   "mimetype": "text/x-python",
   "name": "python",
   "nbconvert_exporter": "python",
   "pygments_lexer": "ipython2",
   "version": "2.7.6"
  }
 },
 "nbformat": 4,
 "nbformat_minor": 5
}
