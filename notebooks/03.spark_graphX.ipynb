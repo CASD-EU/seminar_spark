{
 "cells": [
  {
   "metadata": {},
   "cell_type": "markdown",
   "source": [
    "# Spark graph\n",
    "\n",
    "In this tutorial, we show how to use spark to treat graph."
   ],
   "id": "973c9f6cbb5c702f"
  },
  {
   "metadata": {
    "ExecuteTime": {
     "end_time": "2025-04-23T10:11:11.149770Z",
     "start_time": "2025-04-23T10:11:11.053505Z"
    }
   },
   "cell_type": "code",
   "source": [
    "from pyspark.sql import SparkSession\n",
    "from graphframes import *\n",
    "import os\n",
    "from pathlib import Path"
   ],
   "id": "20f103799a9b126b",
   "outputs": [],
   "execution_count": 1
  },
  {
   "metadata": {
    "ExecuteTime": {
     "end_time": "2025-04-23T10:11:21.044048Z",
     "start_time": "2025-04-23T10:11:11.151526Z"
    }
   },
   "cell_type": "code",
   "source": [
    "spark = SparkSession.builder\\\n",
    "        .master(\"local[4]\")\\\n",
    "        .appName(\"spark_graphX\")\\\n",
    "        .config(\"spark.driver.memory\", \"4g\")\\\n",
    "        .config('spark.jars.packages','graphframes:graphframes:0.8.4-spark3.5-s_2.12') \\\n",
    "        .getOrCreate()"
   ],
   "id": "3b3b0d8a07994b87",
   "outputs": [],
   "execution_count": 2
  },
  {
   "metadata": {
    "ExecuteTime": {
     "end_time": "2025-04-23T10:16:03.885027Z",
     "start_time": "2025-04-23T10:16:03.875704Z"
    }
   },
   "cell_type": "code",
   "source": [
    "data_path = Path().cwd().parent / 'data'\n",
    "doc_path = data_path / 'doctors.csv'\n",
    "patient_path = data_path / 'patients.csv'\n",
    "relation_path = data_path / 'doc_patient_relation.csv'"
   ],
   "id": "42381d145d433380",
   "outputs": [],
   "execution_count": 7
  },
  {
   "metadata": {
    "ExecuteTime": {
     "end_time": "2025-04-23T10:16:09.321057Z",
     "start_time": "2025-04-23T10:16:04.576032Z"
    }
   },
   "cell_type": "code",
   "source": [
    "doc_df = spark.read.csv(str(doc_path),header=True,inferSchema=True)\n",
    "doc_df.show()"
   ],
   "id": "f5974f4a120750be",
   "outputs": [
    {
     "name": "stdout",
     "output_type": "stream",
     "text": [
      "+---+--------------+--------------------+---+\n",
      "| id|          name|               title|age|\n",
      "+---+--------------+--------------------+---+\n",
      "| D1|Carter_Derrick|             dentist| 50|\n",
      "| D2|   May_Derrick|        pediatrician| 26|\n",
      "| D3|    Mills_Jeff|           ophthalmo| 80|\n",
      "| D4|   Hood_Robert|general_practitioner| 65|\n",
      "| D5|    Banks_Mike|             surgeon| 43|\n",
      "| D6|      Berg_Tim|general_practitioner| 28|\n",
      "| D7|    Page_Allan|general_practitioner| 16|\n",
      "| D8|Carter_Derrick|             dentist| 50|\n",
      "| D9|   Wins_Carter|general_practitioner| 28|\n",
      "+---+--------------+--------------------+---+\n",
      "\n"
     ]
    }
   ],
   "execution_count": 8
  },
  {
   "metadata": {},
   "cell_type": "code",
   "outputs": [],
   "execution_count": null,
   "source": "",
   "id": "41cd76c8efa1b18"
  }
 ],
 "metadata": {
  "kernelspec": {
   "display_name": "Python 3",
   "language": "python",
   "name": "python3"
  },
  "language_info": {
   "codemirror_mode": {
    "name": "ipython",
    "version": 2
   },
   "file_extension": ".py",
   "mimetype": "text/x-python",
   "name": "python",
   "nbconvert_exporter": "python",
   "pygments_lexer": "ipython2",
   "version": "2.7.6"
  }
 },
 "nbformat": 4,
 "nbformat_minor": 5
}
